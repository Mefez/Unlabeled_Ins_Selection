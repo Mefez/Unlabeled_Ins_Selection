{
 "cells": [
  {
   "cell_type": "code",
   "execution_count": 10,
   "metadata": {
    "vscode": {
     "languageId": "python"
    }
   },
   "outputs": [],
   "source": [
    "import multiprocessing as mp\n",
    "from sklearn.cluster import DBSCAN\n",
    "from sklearn.datasets import make_blobs\n",
    "from sklearn.preprocessing import StandardScaler\n",
    "import matplotlib.pyplot as plt\n",
    "from sklearn.decomposition import PCA\n",
    "from sklearn.preprocessing import StandardScaler\n",
    "#from matplotlib import pyplot as plt\n",
    "import numpy as np\n",
    "import time\n",
    "import math\n",
    "import json"
   ]
  },
  {
   "cell_type": "code",
   "execution_count": null,
   "metadata": {
    "vscode": {
     "languageId": "python"
    }
   },
   "outputs": [],
   "source": [
    "class PE:\n",
    "  def __init__(self, positions, sha, label, ne, NP):\n",
    "    self.psitions = positions #np.mod(positions[:2],[200,200]) #n-ary position\n",
    "    self.label = label\n",
    "    self.sha = sha\n",
    "    self.NE = ne\n",
    "    self.NP = NP\n",
    "\n",
    "  def __str__(self):\n",
    "    return f\"{{\\\"sha256\\\": \\\"{self.sha}\\\", \\\"histogram\\\": {self.psitions}, \\\"label\\\": {self.label}, \\\"NE\\\": \\\"{self.NE}\\\", \\\"NP\\\": {self.NP}}}\"\n",
    "  \n",
    "def get_result(result):\n",
    "    global results\n",
    "    results.append(result)\n",
    "\n",
    "def NE(Obj, listah):\n",
    "  dist = 0\n",
    "\n",
    "  for i in range(0, len(listah)):\n",
    "    if Obj.label != listah[i].label:\n",
    "      Obj.NE = listah[i].sha\n",
    "      Obj.NP = i\n",
    "      dist = math.dist(Obj.psitions, listah[i].psitions)\n",
    "      break\n",
    "\n",
    "  for i in range(0, len(listah)):\n",
    "    if Obj.label != listah[i].label and dist > math.dist(Obj.psitions, listah[i].psitions):\n",
    "      dist = math.dist(Obj.psitions, listah[i].psitions)\n",
    "      Obj.NE = listah[i].sha\n",
    "      Obj.NP = i\n",
    "\n",
    "  with open(\"NE_result.jsonl\", \"a\") as f:\n",
    "    f.write(str(Obj) + \"\\n\")\n",
    "  f.close()\n",
    "\n",
    "  return Obj\n",
    "\n",
    "if __name__ == '__main__':\n",
    "  mylist = []\n",
    "  results = []\n",
    "\n",
    "  with open(\"train_features_1.jsonl\", \"r\") as json_file:\n",
    "    data = [json.loads(line) for line in json_file]\n",
    "  json_file.close\n",
    "\n",
    "  for json_str in data:\n",
    "    mylist.append(PE(json_str['histogram'], json_str['sha256'], -1, -1, -1))\n",
    "\n",
    "  mistah_listah = np.array(mylist)\n",
    "\n",
    "  #################################################################################\n",
    "\n",
    "  plotdata = []\n",
    "  \n",
    "  for i in mistah_listah:\n",
    "    plotdata.append(i.psitions)\n",
    "\n",
    "  #plotdata = np.array(plotdata).reshape(len(mistah_listah),2)\n",
    "\n",
    "  clustering = DBSCAN(eps=0.5, min_samples=2).fit(plotdata)\n",
    "\n",
    "  for i, j in zip(mistah_listah, clustering.labels_):\n",
    "    i.label = j\n",
    "\n",
    "  with open(\"clustering_result_0.jsonl\", \"a\") as f:\n",
    "    for i, j in zip(mistah_listah, plotdata):\n",
    "      i.psitions = np.array(j).tolist()\n",
    "      f.write(str(i) + \"\\n\")\n",
    "  f.close()"
   ]
  },
  {
   "cell_type": "code",
   "execution_count": 19,
   "metadata": {
    "vscode": {
     "languageId": "python"
    }
   },
   "outputs": [
    {
     "data": {
      "image/png": "[encoded data removed]",
      "text/plain": [
       "<Figure size 432x288 with 1 Axes>"
      ]
     },
     "metadata": {
      "needs_background": "light"
     },
     "output_type": "display_data"
    }
   ],
   "source": [
    "data = []\n",
    "plotdata = []\n",
    "X = []\n",
    "Y = []\n",
    "\n",
    "with open(\"train_features_1.jsonl\", \"r\") as json_file:\n",
    "    data = [json.loads(line) for line in json_file]\n",
    "json_file.close\n",
    "\n",
    "for json_str in data:\n",
    "    plotdata.append(json_str['histogram'][:2])\n",
    "\n",
    "for i in plotdata:\n",
    "    X.append(i[0])\n",
    "\n",
    "for i in plotdata:\n",
    "    Y.append(i[1])\n",
    "\n",
    "\n",
    "plt.scatter(X, Y)\n",
    "plt.show()"
   ]
  }
 ],
 "metadata": {
  "kernelspec": {
   "display_name": "SageMath 9.0",
   "language": "sage",
   "name": "sagemath"
  },
  "language_info": {
   "codemirror_mode": {
    "name": "ipython",
    "version": 3
   },
   "file_extension": ".py",
   "mimetype": "text/x-python",
   "name": "sage",
   "nbconvert_exporter": "python",
   "pygments_lexer": "ipython3",
   "version": "3.8.10"
  },
  "orig_nbformat": 4
 },
 "nbformat": 4,
 "nbformat_minor": 2
}
